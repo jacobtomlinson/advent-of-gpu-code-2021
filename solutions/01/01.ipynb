{
 "cells": [
  {
   "cell_type": "code",
   "execution_count": 1,
   "id": "a47f8e2e-cca5-4d1b-90e5-62cac12f34b8",
   "metadata": {},
   "outputs": [],
   "source": [
    "from numba import cuda\n",
    "import numpy as np\n",
    "import math"
   ]
  },
  {
   "cell_type": "markdown",
   "id": "210b9400-f795-430e-b7f1-699bbbbbfef1",
   "metadata": {},
   "source": [
    "## Data loader"
   ]
  },
  {
   "cell_type": "code",
   "execution_count": 2,
   "id": "89cb42b4-2284-49b6-ae99-f67e36e02ae8",
   "metadata": {},
   "outputs": [],
   "source": [
    "def read_data(fn):\n",
    "    with open(fn, \"r\") as fh:\n",
    "        data = fh.readlines()\n",
    "        return np.asarray([int(line.strip()) for line in data if line.strip()])"
   ]
  },
  {
   "cell_type": "markdown",
   "id": "a6b17df3-3c15-459c-b605-46b005f96a8c",
   "metadata": {},
   "source": [
    "- -1 = Decreasing\n",
    "- 0 = NA or stay the same\n",
    "- 1 = Increasing"
   ]
  },
  {
   "cell_type": "markdown",
   "id": "dddd1ae7-7618-40a5-967c-1b22fc9175c4",
   "metadata": {},
   "source": [
    "## Part 1"
   ]
  },
  {
   "cell_type": "code",
   "execution_count": 3,
   "id": "f642ba30-616c-41c7-8682-23474ede9234",
   "metadata": {},
   "outputs": [],
   "source": [
    "@cuda.jit\n",
    "def increasing_decreasing(in_arr, out_arr):\n",
    "    pos = cuda.grid(1)\n",
    "    if pos < in_arr.size and pos - 1 >= 0:\n",
    "        last = in_arr[pos - 1]\n",
    "        this = in_arr[pos]\n",
    "        \n",
    "        # Check if increasing\n",
    "        if last - this < 0:\n",
    "            out_arr[pos] = 1\n",
    "            \n",
    "        # Check if decreasing\n",
    "        if last - this > 0:\n",
    "            out_arr[pos] = -1"
   ]
  },
  {
   "cell_type": "code",
   "execution_count": 4,
   "id": "8455d802-3b75-4514-8d9c-b1d6744466a3",
   "metadata": {},
   "outputs": [],
   "source": [
    "def run_part1(arr):\n",
    "    # Create output array\n",
    "    output_arr = np.zeros_like(arr)\n",
    "    \n",
    "    # Configure grid\n",
    "    threads = 128\n",
    "    blocks = math.ceil(len(arr) / threads)\n",
    "    \n",
    "    # Calculate increasing/decreasing\n",
    "    increasing_decreasing[blocks, threads](arr, output_arr)\n",
    "    \n",
    "    # Count increasing\n",
    "    unique, counts = np.unique(output_arr, return_counts=True)\n",
    "    c = dict(zip(unique, counts))\n",
    "    \n",
    "    # Return answer\n",
    "    return c[1]"
   ]
  },
  {
   "cell_type": "markdown",
   "id": "8f886959-e654-4bad-bad7-6b2143c51599",
   "metadata": {},
   "source": [
    "## Solve P1 Sample"
   ]
  },
  {
   "cell_type": "code",
   "execution_count": 5,
   "id": "b31d0670-7e7d-4410-9b1c-2a526caa98c6",
   "metadata": {},
   "outputs": [
    {
     "data": {
      "text/plain": [
       "array([199, 200, 208, 210, 200, 207, 240, 269, 260, 263])"
      ]
     },
     "execution_count": 5,
     "metadata": {},
     "output_type": "execute_result"
    }
   ],
   "source": [
    "sample_arr = read_data(\"sample.txt\")\n",
    "sample_arr"
   ]
  },
  {
   "cell_type": "code",
   "execution_count": 6,
   "id": "c3b07d85-27df-4da9-aff0-56f4094eb9a4",
   "metadata": {},
   "outputs": [
    {
     "data": {
      "text/plain": [
       "7"
      ]
     },
     "execution_count": 6,
     "metadata": {},
     "output_type": "execute_result"
    }
   ],
   "source": [
    "run_part1(sample_arr)"
   ]
  },
  {
   "cell_type": "markdown",
   "id": "0749892d-957f-4776-bd79-838e22b7a8d7",
   "metadata": {},
   "source": [
    "## Solve P1 Problem"
   ]
  },
  {
   "cell_type": "code",
   "execution_count": 7,
   "id": "5c792f27-0f49-4317-8f55-fca7db6cad96",
   "metadata": {},
   "outputs": [
    {
     "data": {
      "text/plain": [
       "array([ 157,  148,  149, ..., 8016, 8020, 8026])"
      ]
     },
     "execution_count": 7,
     "metadata": {},
     "output_type": "execute_result"
    }
   ],
   "source": [
    "input_arr = read_data(\"input.txt\")\n",
    "input_arr"
   ]
  },
  {
   "cell_type": "code",
   "execution_count": 8,
   "id": "df62ac02-fe57-47ad-941d-ae9a83ee2869",
   "metadata": {},
   "outputs": [
    {
     "data": {
      "text/plain": [
       "1548"
      ]
     },
     "execution_count": 8,
     "metadata": {},
     "output_type": "execute_result"
    }
   ],
   "source": [
    "run_part1(input_arr)"
   ]
  },
  {
   "cell_type": "markdown",
   "id": "f6ad8c00-887c-4d2f-839f-eb28416e965b",
   "metadata": {},
   "source": [
    "## Part 2"
   ]
  },
  {
   "cell_type": "code",
   "execution_count": 9,
   "id": "5b13bbc1-3069-49f3-acdb-9d394117aca1",
   "metadata": {},
   "outputs": [],
   "source": [
    "@cuda.jit\n",
    "def make_sums(in_arr, out_arr):\n",
    "    pos = cuda.grid(1)\n",
    "    if pos < in_arr.size - 2:\n",
    "        out_arr[pos] = in_arr[pos] + in_arr[pos + 1] + in_arr[pos + 2] "
   ]
  },
  {
   "cell_type": "code",
   "execution_count": 10,
   "id": "b940916f-4dff-4397-831a-f165c741b1be",
   "metadata": {},
   "outputs": [],
   "source": [
    "def run_part2(arr):\n",
    "    # Create output array\n",
    "    output_arr = np.zeros_like(arr)\n",
    "    \n",
    "    # Configure grid\n",
    "    threads = 128\n",
    "    blocks = math.ceil(len(arr) / threads)\n",
    "    \n",
    "    # Make the sums\n",
    "    make_sums[blocks, threads](arr, output_arr)\n",
    "    \n",
    "    # Create next output array\n",
    "    arr = output_arr\n",
    "    output_arr = np.zeros(len(arr) - 2)\n",
    "    \n",
    "    # Calculate increasing/decreasing\n",
    "    increasing_decreasing[blocks, threads](arr, output_arr)\n",
    "    \n",
    "    # Count increasing\n",
    "    unique, counts = np.unique(output_arr, return_counts=True)\n",
    "    c = dict(zip(unique, counts))\n",
    "    \n",
    "    # Return answer\n",
    "    return c[1]"
   ]
  },
  {
   "cell_type": "code",
   "execution_count": 11,
   "id": "6ac5d0ac-d778-4250-b5dd-8a0f60c55262",
   "metadata": {},
   "outputs": [
    {
     "data": {
      "text/plain": [
       "5"
      ]
     },
     "execution_count": 11,
     "metadata": {},
     "output_type": "execute_result"
    }
   ],
   "source": [
    "run_part2(sample_arr)"
   ]
  },
  {
   "cell_type": "code",
   "execution_count": 12,
   "id": "cd4e213c-56ef-4865-8467-ff3f38c3fee7",
   "metadata": {},
   "outputs": [
    {
     "data": {
      "text/plain": [
       "1589"
      ]
     },
     "execution_count": 12,
     "metadata": {},
     "output_type": "execute_result"
    }
   ],
   "source": [
    "run_part2(input_arr)"
   ]
  }
 ],
 "metadata": {
  "kernelspec": {
   "display_name": "Python 3 (ipykernel)",
   "language": "python",
   "name": "python3"
  },
  "language_info": {
   "codemirror_mode": {
    "name": "ipython",
    "version": 3
   },
   "file_extension": ".py",
   "mimetype": "text/x-python",
   "name": "python",
   "nbconvert_exporter": "python",
   "pygments_lexer": "ipython3",
   "version": "3.9.6"
  }
 },
 "nbformat": 4,
 "nbformat_minor": 5
}
