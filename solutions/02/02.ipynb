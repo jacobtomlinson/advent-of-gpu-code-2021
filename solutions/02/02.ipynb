{
 "cells": [
  {
   "cell_type": "code",
   "execution_count": 1,
   "id": "478c4236-6f08-4c5a-8297-c334b1b7634d",
   "metadata": {},
   "outputs": [],
   "source": [
    "from numba import cuda\n",
    "import numpy as np\n",
    "import math"
   ]
  },
  {
   "cell_type": "markdown",
   "id": "8cf2634a-8c49-4c2e-8716-94037d3328fd",
   "metadata": {},
   "source": [
    "## Data loader"
   ]
  },
  {
   "cell_type": "code",
   "execution_count": 14,
   "id": "8fc1487d-9602-4b5a-a514-0fd3d6c43f11",
   "metadata": {},
   "outputs": [],
   "source": [
    "def read_data(fn):\n",
    "    with open(fn, \"r\") as fh:\n",
    "        data = []\n",
    "        for line in fh.readlines():\n",
    "            if not line:\n",
    "                continue\n",
    "            direction, value = line.strip().split(\" \")\n",
    "            data.append([ord(direction[0]), int(value)])\n",
    "        return np.asarray(data)"
   ]
  },
  {
   "cell_type": "code",
   "execution_count": 15,
   "id": "ce4f37dc-b7fb-4547-99ff-ad0ab2bf0d91",
   "metadata": {},
   "outputs": [
    {
     "data": {
      "text/plain": [
       "array([[102,   5],\n",
       "       [100,   5],\n",
       "       [102,   8],\n",
       "       [117,   3],\n",
       "       [100,   8],\n",
       "       [102,   2]])"
      ]
     },
     "execution_count": 15,
     "metadata": {},
     "output_type": "execute_result"
    }
   ],
   "source": [
    "read_data(\"sample.txt\")"
   ]
  },
  {
   "cell_type": "markdown",
   "id": "45735f2c-0fa8-419e-a3d7-ffd4fbf17049",
   "metadata": {},
   "source": [
    "## Part 1"
   ]
  },
  {
   "cell_type": "code",
   "execution_count": 17,
   "id": "d1d6c7a6-c0fa-48cb-80ef-e220a3cb3294",
   "metadata": {},
   "outputs": [],
   "source": [
    "@cuda.jit\n",
    "def update_position(in_arr, output):\n",
    "    pos = cuda.grid(1)\n",
    "    if pos < in_arr.size:\n",
    "        # Down\n",
    "        if in_arr[pos][0] == 100:\n",
    "            cuda.atomic.add(output, 1, in_arr[pos][1])\n",
    "        # Up\n",
    "        if in_arr[pos][0] == 117:\n",
    "            cuda.atomic.add(output, 1, -in_arr[pos][1])\n",
    "        # Forward\n",
    "        if in_arr[pos][0] == 102:\n",
    "            cuda.atomic.add(output, 0, in_arr[pos][1])"
   ]
  },
  {
   "cell_type": "code",
   "execution_count": 22,
   "id": "91516e3f-c2ff-4bf9-b408-cd7b38ad8b1f",
   "metadata": {},
   "outputs": [],
   "source": [
    "def run_part1(arr):\n",
    "    # Create output array\n",
    "    output_arr = np.zeros(2)\n",
    "    \n",
    "    # Configure grid\n",
    "    threads = 128\n",
    "    blocks = math.ceil(len(arr) / threads)\n",
    "    \n",
    "    # Calculate increasing/decreasing\n",
    "    update_position[blocks, threads](arr, output_arr)\n",
    "    \n",
    "    # Return answer\n",
    "    return int(output_arr.prod())"
   ]
  },
  {
   "cell_type": "code",
   "execution_count": 23,
   "id": "5165b673-427d-43e5-8a61-e1e727313b38",
   "metadata": {},
   "outputs": [
    {
     "data": {
      "text/plain": [
       "150"
      ]
     },
     "execution_count": 23,
     "metadata": {},
     "output_type": "execute_result"
    }
   ],
   "source": [
    "run_part1(read_data(\"sample.txt\"))"
   ]
  },
  {
   "cell_type": "code",
   "execution_count": 24,
   "id": "6c9fddf9-bef4-4f1f-b6b2-5693a888148a",
   "metadata": {},
   "outputs": [
    {
     "data": {
      "text/plain": [
       "2073315"
      ]
     },
     "execution_count": 24,
     "metadata": {},
     "output_type": "execute_result"
    }
   ],
   "source": [
    "run_part1(read_data(\"input.txt\"))"
   ]
  },
  {
   "cell_type": "markdown",
   "id": "fa1d5d7a-19e9-4097-8e7f-e5c499dd386e",
   "metadata": {},
   "source": [
    "## Part 2\n",
    "\n",
    "Given that each item in the array needs the output from the previous item this will not parallelise."
   ]
  }
 ],
 "metadata": {
  "kernelspec": {
   "display_name": "Python 3 (ipykernel)",
   "language": "python",
   "name": "python3"
  },
  "language_info": {
   "codemirror_mode": {
    "name": "ipython",
    "version": 3
   },
   "file_extension": ".py",
   "mimetype": "text/x-python",
   "name": "python",
   "nbconvert_exporter": "python",
   "pygments_lexer": "ipython3",
   "version": "3.9.6"
  }
 },
 "nbformat": 4,
 "nbformat_minor": 5
}
